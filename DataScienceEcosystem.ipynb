{
 "cells": [
  {
   "cell_type": "markdown",
   "metadata": {},
   "source": [
    "<center>\n",
    "    <img src=\"https://cf-courses-data.s3.us.cloud-object-storage.appdomain.cloud/IBMDeveloperSkillsNetwork-DS0105EN-SkillsNetwork/labs/Module2/images/SN_web_lightmode.png\" width=\"300\" alt=\"cognitiveclass.ai logo\">\n",
    "</center>\n"
   ]
  },
  {
   "cell_type": "markdown",
   "metadata": {
    "tags": []
   },
   "source": [
    "#### Add your code below following the instructions given in the course\n"
   ]
  },
  {
   "cell_type": "markdown",
   "metadata": {},
   "source": [
    "Data Science Tools and Ecosystem"
   ]
  },
  {
   "cell_type": "markdown",
   "metadata": {},
   "source": [
    "In this notebook, Data Science Tools and Ecosystem are summarized."
   ]
  },
  {
   "cell_type": "markdown",
   "metadata": {},
   "source": [
    "Some of the popular languages that Data Scientists use are:"
   ]
  },
  {
   "cell_type": "markdown",
   "metadata": {},
   "source": [
    "Python\n",
    ",R\n",
    ",SQL\n",
    ",Jupyter Notebook\n",
    ",Scala\n",
    ",Julia\n",
    ",MATLAB\n",
    ",Java\n",
    ",Perl"
   ]
  },
  {
   "cell_type": "markdown",
   "metadata": {},
   "source": [
    "Some of the commonly used libraries used by Data Scientists include:"
   ]
  },
  {
   "cell_type": "markdown",
   "metadata": {
    "tags": []
   },
   "source": [
    "NumPy\n",
    ",pandas\n",
    ",Matplotlib\n",
    ",Seaborn\n",
    ",scikit-learn\n",
    ",TensorFlow\n",
    ",Keras\n",
    ",PyTorch\n",
    ",Statsmodels\n",
    ",NLTK\n",
    ",spaCy\n",
    ",gensim\n",
    ",OpenCV\n",
    ",Beautiful Soup\n",
    ",SQLAlchemy"
   ]
  },
  {
   "cell_type": "markdown",
   "metadata": {},
   "source": [
    "Data Science Tools"
   ]
  },
  {
   "cell_type": "markdown",
   "metadata": {},
   "source": [
    "| Development Environment   | Description                                                                           |\n",
    "|--------------------------|---------------------------------------------------------------------------------------|\n",
    "| Jupyter Notebook         | An open-source web application for creating and sharing documents with live code, equations, visualizations, and text. Supports multiple languages. |\n",
    "| RStudio                  | An integrated development environment (IDE) for the R programming language, providing tools for code editing, debugging, and data visualization. |\n",
    "| Spyder                   | An open-source IDE designed for scientific and data analysis in Python, featuring code editing, an interactive console, and integrated plotting. |\n"
   ]
  },
  {
   "cell_type": "markdown",
   "metadata": {},
   "source": [
    "###Below are a few examples of evaluating arithmetic expressions in Python"
   ]
  },
  {
   "cell_type": "code",
   "execution_count": 2,
   "metadata": {
    "tags": []
   },
   "outputs": [
    {
     "name": "stdout",
     "output_type": "stream",
     "text": [
      "5 + 3 = 8\n",
      "10 - 4 = 6\n",
      "6 * 7 = 42\n",
      "20 / 4 = 5.0\n",
      "2 ** 3 = 8\n",
      "15 % 4 = 3\n"
     ]
    }
   ],
   "source": [
    "# Example 1: Addition\n",
    "result1 = 5 + 3\n",
    "print(\"5 + 3 =\", result1)\n",
    "\n",
    "# Example 2: Subtraction\n",
    "result2 = 10 - 4\n",
    "print(\"10 - 4 =\", result2)\n",
    "\n",
    "# Example 3: Multiplication\n",
    "result3 = 6 * 7\n",
    "print(\"6 * 7 =\", result3)\n",
    "\n",
    "# Example 4: Division\n",
    "result4 = 20 / 4\n",
    "print(\"20 / 4 =\", result4)\n",
    "\n",
    "# Example 5: Exponentiation\n",
    "result5 = 2 ** 3\n",
    "print(\"2 ** 3 =\", result5)\n",
    "\n",
    "# Example 6: Modulus (Remainder)\n",
    "result6 = 15 % 4\n",
    "print(\"15 % 4 =\", result6)\n"
   ]
  },
  {
   "cell_type": "code",
   "execution_count": 3,
   "metadata": {
    "tags": []
   },
   "outputs": [
    {
     "data": {
      "text/plain": [
       "17"
      ]
     },
     "execution_count": 3,
     "metadata": {},
     "output_type": "execute_result"
    }
   ],
   "source": [
    "#This a simple arithmetic expression to mutiply then add integers\n",
    "(3*4)+5"
   ]
  },
  {
   "cell_type": "code",
   "execution_count": 4,
   "metadata": {
    "tags": []
   },
   "outputs": [
    {
     "name": "stdout",
     "output_type": "stream",
     "text": [
      "200 minutes is equal to 3.3333333333333335 hours\n"
     ]
    }
   ],
   "source": [
    "#This will convert 200 minutes to hours by diving by 60\n",
    "minutes = 200\n",
    "hours = minutes / 60\n",
    "print(\"200 minutes is equal to\", hours, \"hours\")"
   ]
  },
  {
   "cell_type": "markdown",
   "metadata": {},
   "source": [
    "**Objectives:**\n",
    "\n",
    "- List popular languages for Data Science.\n",
    "- Mention commonly used libraries in Data Science.\n",
    "- Introduce open-source development environments for Data Science.\n",
    "- Provide examples of evaluating arithmetic expressions in Python.\n",
    "- Demonstrate how to convert minutes into hours using Python.\n"
   ]
  },
  {
   "cell_type": "markdown",
   "metadata": {},
   "source": [
    "## Author\n",
    "\n",
    "Dharshan.S\n"
   ]
  },
  {
   "cell_type": "code",
   "execution_count": null,
   "metadata": {},
   "outputs": [],
   "source": []
  }
 ],
 "metadata": {
  "kernelspec": {
   "display_name": "Python",
   "language": "python",
   "name": "conda-env-python-py"
  },
  "language_info": {
   "codemirror_mode": {
    "name": "ipython",
    "version": 3
   },
   "file_extension": ".py",
   "mimetype": "text/x-python",
   "name": "python",
   "nbconvert_exporter": "python",
   "pygments_lexer": "ipython3",
   "version": "3.7.12"
  }
 },
 "nbformat": 4,
 "nbformat_minor": 4
}
